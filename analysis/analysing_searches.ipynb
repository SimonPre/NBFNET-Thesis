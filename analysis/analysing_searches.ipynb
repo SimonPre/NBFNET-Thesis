{
 "cells": [
  {
   "cell_type": "markdown",
   "source": [
    "# Analysis"
   ],
   "metadata": {
    "collapsed": false
   }
  },
  {
   "cell_type": "markdown",
   "source": [
    "## 1.Set-up"
   ],
   "metadata": {
    "collapsed": false
   }
  },
  {
   "cell_type": "code",
   "execution_count": 31,
   "outputs": [],
   "source": [
    "from util.db.connector import Connector\n",
    "import pandas as pd\n",
    "import numpy as np\n",
    "import itertools\n",
    "\n",
    "connector = Connector(logger=None)\n",
    "wnrr_filter = {\n",
    "   \"config.run.data.dataset\": \"wnrr\",\n",
    "   \"config.run.training.message_passing.messanger_function\": \"distmult\",\n",
    "    \"config.run.training.message_passing.aggregation_function\": \"pna\",\n",
    "    \"config.run.data.negative_sampling.n_negative_samples\": 32,\n",
    "    \"config.run.training.adversarial_temperature\": 1,\n",
    "    \"config.run.training.batch_size\": 128,\n",
    "    \"config.run.training.message_passing.query_dependent_edge_representations\": False,\n",
    "    \"config.run.data.remove_easy_edges\": False,\n",
    "    \"config.run.training.message_passing.edge_representation_dimensionalities\": 6,\n",
    "    \"config.run.training.message_passing.message_augmentation\": True,\n",
    "    \"config.run.training.message_passing.indicator_function_as_bounding\": True,\n",
    "    \"config.run.training.message_passing.skip_connection\": True,\n",
    "    \"config.run.training.scoring.type\": \"o\",\n",
    "    \"config.run.training.message_passing.query_embedding_dimensionality\": 32,\n",
    "    \"config.run.training.scoring.augment_with_query_embedding\": True,\n",
    "    \"config.run.training.add_self_edges\": False,\n",
    "    \"config.run.training.message_passing.new_representation_based_only_on_update\": False\n",
    "}\n",
    "\n",
    "fbk_filter = {\n",
    "   \"config.run.data.dataset\": \"fb15k-237\",\n",
    "   \"config.run.training.message_passing.messanger_function\": \"distmult\",\n",
    "    \"config.run.training.message_passing.aggregation_function\": \"pna\",\n",
    "    \"config.run.training.adversarial_temperature\": 0.5,\n",
    "    \"config.run.data.negative_sampling.n_negative_samples\": 32,\n",
    "    \"config.run.training.batch_size\": 256,\n",
    "    \"config.run.training.message_passing.query_dependent_edge_representations\": True,\n",
    "    \"config.run.data.remove_easy_edges\": True,\n",
    "    \"config.run.training.message_passing.edge_representation_dimensionalities\": 6,\n",
    "    \"config.run.training.message_passing.message_augmentation\": True,\n",
    "    \"config.run.training.message_passing.indicator_function_as_bounding\": True,\n",
    "    \"config.run.training.message_passing.skip_connection\": True,\n",
    "    \"config.run.training.message_passing.query_embedding_dimensionality\": 32,\n",
    "    \"config.run.training.scoring.type\": \"o\",\n",
    "    \"config.run.training.scoring.augment_with_query_embedding\": True,\n",
    "    \"config.run.training.add_self_edges\": False,\n",
    "    \"config.run.training.message_passing.new_representation_based_only_on_update\": False\n",
    "}\n",
    "\n",
    "def flatten_dict(nested_dict):\n",
    "    res = {}\n",
    "    if isinstance(nested_dict, dict):\n",
    "        for k in nested_dict:\n",
    "            flattened_dict = flatten_dict(nested_dict[k])\n",
    "            for key, val in flattened_dict.items():\n",
    "                key = list(key)\n",
    "                key.insert(0, k)\n",
    "                res[tuple(key)] = val\n",
    "    else:\n",
    "        res[()] = nested_dict\n",
    "    return res\n",
    "\n",
    "\n",
    "def nested_dict_to_df(values_dict):\n",
    "    flat_dict = flatten_dict(values_dict)\n",
    "    df = pd.DataFrame.from_dict(flat_dict, orient=\"index\")\n",
    "    df.index = pd.MultiIndex.from_tuples(df.index)\n",
    "    df = df.unstack(level=-1)\n",
    "    df.columns = df.columns.map(\"{0[1]}\".format)\n",
    "    return df\n",
    "\n",
    "def fill_nas_with_defaults(df: pd.DataFrame):\n",
    "    na_filling_defaults = {\n",
    "        \"config.run.training.message_passing.message_augmentation\": True,\n",
    "        \"config.run.training.message_passing.indicator_function_as_bounding\": True,\n",
    "        \"config.run.training.message_passing.skip_connection\": True,\n",
    "        \"config.run.training.scoring.type\": \"o\",\n",
    "        \"config.run.training.scoring.augment_with_query_embedding\": True,\n",
    "        \"config.run.training.add_self_edges\": False,\n",
    "        \"config.run.training.message_passing.new_representation_based_only_on_update\": False,\n",
    "        \"config.run.training.message_passing.initial_s_dependent_on_p\": True,\n",
    "        \"config.run.training.message_passing.learned_zero_vector\": False,\n",
    "\n",
    "    }\n",
    "    for k,v in na_filling_defaults.items():\n",
    "        df[k] = df[k].fillna(v)\n",
    "    return df\n",
    "\n",
    "def filter_for_experiment(df: pd.DataFrame, dataset_filter:dict, **kwargs):\n",
    "    filter_ = np.ones(len(df),dtype=int)\n",
    "    df = fill_nas_with_defaults(df)\n",
    "    for k,v in dataset_filter.items():\n",
    "        if k in kwargs:\n",
    "            v = kwargs[k]\n",
    "        if k == \"config.run.training.message_passing.edge_representation_dimensionalities\":\n",
    "            condition = [len(x) == v for x in list(df[\"config.run.training.message_passing.edge_representation_dimensionalities\"])]\n",
    "        else:\n",
    "            condition = df[k] == v\n",
    "        filter_ = filter_ * np.array(condition)\n",
    "    return df[np.array(filter_,dtype=bool)]\n",
    "\n",
    "all_searches = connector.db.collection(\"Search\").get()\n",
    "search_ids = [x.id for x in all_searches]\n",
    "runs_and_results = []\n",
    "for id in search_ids:\n",
    "    runs_and_results.append(\n",
    "        (\n",
    "            [x.to_dict() for x in connector.db.collection(\"Search\").document(id).collection(\"Runs\").get()]  ,\n",
    "             [x.to_dict() for x in connector.db.collection(\"Search\").document(id).collection(\"Test\").get()]\n",
    "        )\n",
    "    )\n",
    "runs_and_results_clean = [(pd.json_normalize(runs),pd.json_normalize(test)) for runs,test in runs_and_results if test and runs]\n",
    "runs_and_results_merged = [x.merge(y, left_on=\"trial_number\",right_on=\"run_id\") for x,y in runs_and_results_clean ]\n",
    "all_searches = pd.concat(runs_and_results_merged)\n",
    "all_searches.to_csv(\"all_searches.csv\")"
   ],
   "metadata": {
    "collapsed": false
   }
  },
  {
   "cell_type": "code",
   "execution_count": 32,
   "outputs": [
    {
     "data": {
      "text/plain": "    trial_number                       start_date  \\\n0              0 2023-02-18 12:16:09.864783+00:00   \n1              1 2023-02-18 23:17:01.300701+00:00   \n0              0 2023-03-01 17:15:42.415641+00:00   \n0              0 2023-02-06 13:40:48.051804+00:00   \n0              0 2023-03-04 12:40:00.774958+00:00   \n..           ...                              ...   \n3              0 2023-03-09 20:13:54.601590+00:00   \n0              0 2023-02-05 10:46:04.454020+00:00   \n0              0 2023-02-08 21:28:08.653477+00:00   \n0              0 2023-03-01 21:32:08.775539+00:00   \n0              0 2023-03-02 08:41:14.191345+00:00   \n\n                                run_id_x  config.run.save_results  \\\n0   1fd4dd2f-1624-48c5-b944-20d88b2d1447                     True   \n1   9d6bd05e-7682-4080-b863-3a11f7005f09                     True   \n0   30d869b4-1eac-4023-aceb-e1da461358d4                     True   \n0   723424f6-c865-4685-89dd-8fea1dba370a                     True   \n0   c96da6e0-5a28-4746-b4f2-d31d7231b98b                     True   \n..                                   ...                      ...   \n3   96a15361-08d0-4190-9f68-5364f1d1a7a0                     True   \n0   f87cbaa0-6a45-4092-aaa0-9a24990e52dd                     True   \n0   436d6480-d264-4b3e-96f4-bcca64c8b9aa                     True   \n0   4cc81faf-565e-4192-ad4b-91a76c172225                     True   \n0   38e8ea21-0b68-4afb-a105-337ce8efe2f9                     True   \n\n    config.run.evaluation.filter config.run.evaluation.ranking_scenario  \\\n0                           True                            pessimistic   \n1                           True                            pessimistic   \n0                           True                            pessimistic   \n0                           True                            pessimistic   \n0                           True                            pessimistic   \n..                           ...                                    ...   \n3                           True                            pessimistic   \n0                           True                            pessimistic   \n0                           True                            pessimistic   \n0                           True                            pessimistic   \n0                           True                            pessimistic   \n\n   config.run.evaluation.hits_at_N  config.run.training.batch_size  \\\n0                       [1, 3, 10]                             128   \n1                       [1, 3, 10]                             128   \n0                       [1, 3, 10]                              64   \n0                       [1, 3, 10]                             128   \n0                       [1, 3, 10]                             128   \n..                             ...                             ...   \n3                       [1, 3, 10]                              64   \n0                       [1, 3, 10]                             128   \n0                       [1, 3, 10]                             256   \n0                       [1, 3, 10]                             128   \n0                       [1, 3, 10]                              64   \n\n    config.run.training.mini_batch_size  \\\n0                                    32   \n1                                    32   \n0                                    32   \n0                                    32   \n0                                    32   \n..                                  ...   \n3                                    32   \n0                                    32   \n0                                    32   \n0                                    32   \n0                                    16   \n\n   config.run.training.optimizer.other_arguments_kwargs  ... epoch  \\\n0                                                None    ...    17   \n1                                                None    ...    19   \n0                                                None    ...    18   \n0                                                None    ...    18   \n0                                                None    ...    16   \n..                                                ...    ...   ...   \n3                                                None    ...     9   \n0                                                None    ...    19   \n0                                                None    ...    13   \n0                                                None    ...    20   \n0                                                None    ...    16   \n\n             mr       mrr  run_id_y hits_at_N.hits_at_1 hits_at_N.hits_at_3  \\\n0    638.611267  0.551404         0            0.494770            0.577967   \n1    635.931152  0.557175         1            0.502125            0.582543   \n0    637.483215  0.558537         0            0.505604            0.581012   \n0   8382.252930  0.360100         0            0.354691            0.358450   \n0      1.336719  0.940064         0            0.895312            0.982813   \n..          ...       ...       ...                 ...                 ...   \n3    674.757935  0.550537         0            0.494557            0.576849   \n0    628.848145  0.483130         0            0.388526            0.545440   \n0    111.601357  0.415543         0            0.322934            0.455123   \n0    650.344360  0.547759         0            0.494279            0.567833   \n0    595.829346  0.566288         0            0.512488            0.589177   \n\n   hits_at_N.hits_at_10  \\\n0              0.659039   \n1              0.666558   \n0              0.666667   \n0              0.368258   \n0              0.995313   \n..                  ...   \n3              0.660743   \n0              0.656097   \n0              0.598305   \n0              0.658058   \n0              0.679155   \n\n   config.run.training.message_passing.new_representation_based_only_on_update  \\\n0                                                 NaN                            \n1                                                 NaN                            \n0                                               False                            \n0                                                 NaN                            \n0                                               False                            \n..                                                ...                            \n3                                               False                            \n0                                                 NaN                            \n0                                                 NaN                            \n0                                                True                            \n0                                               False                            \n\n   config.run.training.message_passing.initial_s_dependent_on_p  \\\n0                                                 NaN             \n1                                                 NaN             \n0                                                 NaN             \n0                                                 NaN             \n0                                                 NaN             \n..                                                ...             \n3                                                True             \n0                                                 NaN             \n0                                                 NaN             \n0                                                 NaN             \n0                                                 NaN             \n\n   config.run.training.message_passing.learned_zero_vector  \n0                                                 NaN       \n1                                                 NaN       \n0                                                 NaN       \n0                                                 NaN       \n0                                                 NaN       \n..                                                ...       \n3                                               False       \n0                                                 NaN       \n0                                                 NaN       \n0                                                 NaN       \n0                                                 NaN       \n\n[190 rows x 46 columns]",
      "text/html": "<div>\n<style scoped>\n    .dataframe tbody tr th:only-of-type {\n        vertical-align: middle;\n    }\n\n    .dataframe tbody tr th {\n        vertical-align: top;\n    }\n\n    .dataframe thead th {\n        text-align: right;\n    }\n</style>\n<table border=\"1\" class=\"dataframe\">\n  <thead>\n    <tr style=\"text-align: right;\">\n      <th></th>\n      <th>trial_number</th>\n      <th>start_date</th>\n      <th>run_id_x</th>\n      <th>config.run.save_results</th>\n      <th>config.run.evaluation.filter</th>\n      <th>config.run.evaluation.ranking_scenario</th>\n      <th>config.run.evaluation.hits_at_N</th>\n      <th>config.run.training.batch_size</th>\n      <th>config.run.training.mini_batch_size</th>\n      <th>config.run.training.optimizer.other_arguments_kwargs</th>\n      <th>...</th>\n      <th>epoch</th>\n      <th>mr</th>\n      <th>mrr</th>\n      <th>run_id_y</th>\n      <th>hits_at_N.hits_at_1</th>\n      <th>hits_at_N.hits_at_3</th>\n      <th>hits_at_N.hits_at_10</th>\n      <th>config.run.training.message_passing.new_representation_based_only_on_update</th>\n      <th>config.run.training.message_passing.initial_s_dependent_on_p</th>\n      <th>config.run.training.message_passing.learned_zero_vector</th>\n    </tr>\n  </thead>\n  <tbody>\n    <tr>\n      <th>0</th>\n      <td>0</td>\n      <td>2023-02-18 12:16:09.864783+00:00</td>\n      <td>1fd4dd2f-1624-48c5-b944-20d88b2d1447</td>\n      <td>True</td>\n      <td>True</td>\n      <td>pessimistic</td>\n      <td>[1, 3, 10]</td>\n      <td>128</td>\n      <td>32</td>\n      <td>None</td>\n      <td>...</td>\n      <td>17</td>\n      <td>638.611267</td>\n      <td>0.551404</td>\n      <td>0</td>\n      <td>0.494770</td>\n      <td>0.577967</td>\n      <td>0.659039</td>\n      <td>NaN</td>\n      <td>NaN</td>\n      <td>NaN</td>\n    </tr>\n    <tr>\n      <th>1</th>\n      <td>1</td>\n      <td>2023-02-18 23:17:01.300701+00:00</td>\n      <td>9d6bd05e-7682-4080-b863-3a11f7005f09</td>\n      <td>True</td>\n      <td>True</td>\n      <td>pessimistic</td>\n      <td>[1, 3, 10]</td>\n      <td>128</td>\n      <td>32</td>\n      <td>None</td>\n      <td>...</td>\n      <td>19</td>\n      <td>635.931152</td>\n      <td>0.557175</td>\n      <td>1</td>\n      <td>0.502125</td>\n      <td>0.582543</td>\n      <td>0.666558</td>\n      <td>NaN</td>\n      <td>NaN</td>\n      <td>NaN</td>\n    </tr>\n    <tr>\n      <th>0</th>\n      <td>0</td>\n      <td>2023-03-01 17:15:42.415641+00:00</td>\n      <td>30d869b4-1eac-4023-aceb-e1da461358d4</td>\n      <td>True</td>\n      <td>True</td>\n      <td>pessimistic</td>\n      <td>[1, 3, 10]</td>\n      <td>64</td>\n      <td>32</td>\n      <td>None</td>\n      <td>...</td>\n      <td>18</td>\n      <td>637.483215</td>\n      <td>0.558537</td>\n      <td>0</td>\n      <td>0.505604</td>\n      <td>0.581012</td>\n      <td>0.666667</td>\n      <td>False</td>\n      <td>NaN</td>\n      <td>NaN</td>\n    </tr>\n    <tr>\n      <th>0</th>\n      <td>0</td>\n      <td>2023-02-06 13:40:48.051804+00:00</td>\n      <td>723424f6-c865-4685-89dd-8fea1dba370a</td>\n      <td>True</td>\n      <td>True</td>\n      <td>pessimistic</td>\n      <td>[1, 3, 10]</td>\n      <td>128</td>\n      <td>32</td>\n      <td>None</td>\n      <td>...</td>\n      <td>18</td>\n      <td>8382.252930</td>\n      <td>0.360100</td>\n      <td>0</td>\n      <td>0.354691</td>\n      <td>0.358450</td>\n      <td>0.368258</td>\n      <td>NaN</td>\n      <td>NaN</td>\n      <td>NaN</td>\n    </tr>\n    <tr>\n      <th>0</th>\n      <td>0</td>\n      <td>2023-03-04 12:40:00.774958+00:00</td>\n      <td>c96da6e0-5a28-4746-b4f2-d31d7231b98b</td>\n      <td>True</td>\n      <td>True</td>\n      <td>pessimistic</td>\n      <td>[1, 3, 10]</td>\n      <td>128</td>\n      <td>32</td>\n      <td>None</td>\n      <td>...</td>\n      <td>16</td>\n      <td>1.336719</td>\n      <td>0.940064</td>\n      <td>0</td>\n      <td>0.895312</td>\n      <td>0.982813</td>\n      <td>0.995313</td>\n      <td>False</td>\n      <td>NaN</td>\n      <td>NaN</td>\n    </tr>\n    <tr>\n      <th>...</th>\n      <td>...</td>\n      <td>...</td>\n      <td>...</td>\n      <td>...</td>\n      <td>...</td>\n      <td>...</td>\n      <td>...</td>\n      <td>...</td>\n      <td>...</td>\n      <td>...</td>\n      <td>...</td>\n      <td>...</td>\n      <td>...</td>\n      <td>...</td>\n      <td>...</td>\n      <td>...</td>\n      <td>...</td>\n      <td>...</td>\n      <td>...</td>\n      <td>...</td>\n      <td>...</td>\n    </tr>\n    <tr>\n      <th>3</th>\n      <td>0</td>\n      <td>2023-03-09 20:13:54.601590+00:00</td>\n      <td>96a15361-08d0-4190-9f68-5364f1d1a7a0</td>\n      <td>True</td>\n      <td>True</td>\n      <td>pessimistic</td>\n      <td>[1, 3, 10]</td>\n      <td>64</td>\n      <td>32</td>\n      <td>None</td>\n      <td>...</td>\n      <td>9</td>\n      <td>674.757935</td>\n      <td>0.550537</td>\n      <td>0</td>\n      <td>0.494557</td>\n      <td>0.576849</td>\n      <td>0.660743</td>\n      <td>False</td>\n      <td>True</td>\n      <td>False</td>\n    </tr>\n    <tr>\n      <th>0</th>\n      <td>0</td>\n      <td>2023-02-05 10:46:04.454020+00:00</td>\n      <td>f87cbaa0-6a45-4092-aaa0-9a24990e52dd</td>\n      <td>True</td>\n      <td>True</td>\n      <td>pessimistic</td>\n      <td>[1, 3, 10]</td>\n      <td>128</td>\n      <td>32</td>\n      <td>None</td>\n      <td>...</td>\n      <td>19</td>\n      <td>628.848145</td>\n      <td>0.483130</td>\n      <td>0</td>\n      <td>0.388526</td>\n      <td>0.545440</td>\n      <td>0.656097</td>\n      <td>NaN</td>\n      <td>NaN</td>\n      <td>NaN</td>\n    </tr>\n    <tr>\n      <th>0</th>\n      <td>0</td>\n      <td>2023-02-08 21:28:08.653477+00:00</td>\n      <td>436d6480-d264-4b3e-96f4-bcca64c8b9aa</td>\n      <td>True</td>\n      <td>True</td>\n      <td>pessimistic</td>\n      <td>[1, 3, 10]</td>\n      <td>256</td>\n      <td>32</td>\n      <td>None</td>\n      <td>...</td>\n      <td>13</td>\n      <td>111.601357</td>\n      <td>0.415543</td>\n      <td>0</td>\n      <td>0.322934</td>\n      <td>0.455123</td>\n      <td>0.598305</td>\n      <td>NaN</td>\n      <td>NaN</td>\n      <td>NaN</td>\n    </tr>\n    <tr>\n      <th>0</th>\n      <td>0</td>\n      <td>2023-03-01 21:32:08.775539+00:00</td>\n      <td>4cc81faf-565e-4192-ad4b-91a76c172225</td>\n      <td>True</td>\n      <td>True</td>\n      <td>pessimistic</td>\n      <td>[1, 3, 10]</td>\n      <td>128</td>\n      <td>32</td>\n      <td>None</td>\n      <td>...</td>\n      <td>20</td>\n      <td>650.344360</td>\n      <td>0.547759</td>\n      <td>0</td>\n      <td>0.494279</td>\n      <td>0.567833</td>\n      <td>0.658058</td>\n      <td>True</td>\n      <td>NaN</td>\n      <td>NaN</td>\n    </tr>\n    <tr>\n      <th>0</th>\n      <td>0</td>\n      <td>2023-03-02 08:41:14.191345+00:00</td>\n      <td>38e8ea21-0b68-4afb-a105-337ce8efe2f9</td>\n      <td>True</td>\n      <td>True</td>\n      <td>pessimistic</td>\n      <td>[1, 3, 10]</td>\n      <td>64</td>\n      <td>16</td>\n      <td>None</td>\n      <td>...</td>\n      <td>16</td>\n      <td>595.829346</td>\n      <td>0.566288</td>\n      <td>0</td>\n      <td>0.512488</td>\n      <td>0.589177</td>\n      <td>0.679155</td>\n      <td>False</td>\n      <td>NaN</td>\n      <td>NaN</td>\n    </tr>\n  </tbody>\n</table>\n<p>190 rows × 46 columns</p>\n</div>"
     },
     "execution_count": 32,
     "metadata": {},
     "output_type": "execute_result"
    }
   ],
   "source": [
    "all_searches"
   ],
   "metadata": {
    "collapsed": false
   }
  },
  {
   "cell_type": "markdown",
   "source": [
    "## WNRR replication"
   ],
   "metadata": {
    "collapsed": false
   }
  },
  {
   "cell_type": "code",
   "execution_count": 33,
   "outputs": [],
   "source": [
    "wnrr_replications = filter_for_experiment(all_searches,wnrr_filter,**{})"
   ],
   "metadata": {
    "collapsed": false
   }
  },
  {
   "cell_type": "code",
   "execution_count": 34,
   "outputs": [
    {
     "data": {
      "text/plain": "    trial_number                       start_date  \\\n0              8 2023-02-08 03:09:02.583584+00:00   \n2             13 2023-02-08 17:26:05.942884+00:00   \n10            11 2023-02-08 14:43:04.845086+00:00   \n\n                                run_id_x  config.run.save_results  \\\n0   e1c42664-b339-4d38-81fd-c8fce315d61b                     True   \n2   2b443178-6fca-4f85-8551-baf2d1b08e59                     True   \n10  146f0c79-fb75-4f40-a1ec-e8e2f1fac82f                     True   \n\n    config.run.evaluation.filter config.run.evaluation.ranking_scenario  \\\n0                           True                            pessimistic   \n2                           True                            pessimistic   \n10                          True                            pessimistic   \n\n   config.run.evaluation.hits_at_N  config.run.training.batch_size  \\\n0                       [1, 3, 10]                             128   \n2                       [1, 3, 10]                             128   \n10                      [1, 3, 10]                             128   \n\n    config.run.training.mini_batch_size  \\\n0                                    32   \n2                                    32   \n10                                   32   \n\n   config.run.training.optimizer.other_arguments_kwargs  ... epoch  \\\n0                                                None    ...    19   \n2                                                None    ...    16   \n10                                               None    ...    19   \n\n            mr       mrr  run_id_y hits_at_N.hits_at_1 hits_at_N.hits_at_3  \\\n0   630.012390  0.553377         8            0.498529            0.578457   \n2   628.517639  0.555045        13            0.500654            0.576659   \n10  630.488037  0.553884        11            0.498039            0.578294   \n\n    hits_at_N.hits_at_10  \\\n0               0.662798   \n2               0.663289   \n10              0.663779   \n\n   config.run.training.message_passing.new_representation_based_only_on_update  \\\n0                                               False                            \n2                                               False                            \n10                                              False                            \n\n    config.run.training.message_passing.initial_s_dependent_on_p  \\\n0                                                True              \n2                                                True              \n10                                               True              \n\n    config.run.training.message_passing.learned_zero_vector  \n0                                               False        \n2                                               False        \n10                                              False        \n\n[3 rows x 46 columns]",
      "text/html": "<div>\n<style scoped>\n    .dataframe tbody tr th:only-of-type {\n        vertical-align: middle;\n    }\n\n    .dataframe tbody tr th {\n        vertical-align: top;\n    }\n\n    .dataframe thead th {\n        text-align: right;\n    }\n</style>\n<table border=\"1\" class=\"dataframe\">\n  <thead>\n    <tr style=\"text-align: right;\">\n      <th></th>\n      <th>trial_number</th>\n      <th>start_date</th>\n      <th>run_id_x</th>\n      <th>config.run.save_results</th>\n      <th>config.run.evaluation.filter</th>\n      <th>config.run.evaluation.ranking_scenario</th>\n      <th>config.run.evaluation.hits_at_N</th>\n      <th>config.run.training.batch_size</th>\n      <th>config.run.training.mini_batch_size</th>\n      <th>config.run.training.optimizer.other_arguments_kwargs</th>\n      <th>...</th>\n      <th>epoch</th>\n      <th>mr</th>\n      <th>mrr</th>\n      <th>run_id_y</th>\n      <th>hits_at_N.hits_at_1</th>\n      <th>hits_at_N.hits_at_3</th>\n      <th>hits_at_N.hits_at_10</th>\n      <th>config.run.training.message_passing.new_representation_based_only_on_update</th>\n      <th>config.run.training.message_passing.initial_s_dependent_on_p</th>\n      <th>config.run.training.message_passing.learned_zero_vector</th>\n    </tr>\n  </thead>\n  <tbody>\n    <tr>\n      <th>0</th>\n      <td>8</td>\n      <td>2023-02-08 03:09:02.583584+00:00</td>\n      <td>e1c42664-b339-4d38-81fd-c8fce315d61b</td>\n      <td>True</td>\n      <td>True</td>\n      <td>pessimistic</td>\n      <td>[1, 3, 10]</td>\n      <td>128</td>\n      <td>32</td>\n      <td>None</td>\n      <td>...</td>\n      <td>19</td>\n      <td>630.012390</td>\n      <td>0.553377</td>\n      <td>8</td>\n      <td>0.498529</td>\n      <td>0.578457</td>\n      <td>0.662798</td>\n      <td>False</td>\n      <td>True</td>\n      <td>False</td>\n    </tr>\n    <tr>\n      <th>2</th>\n      <td>13</td>\n      <td>2023-02-08 17:26:05.942884+00:00</td>\n      <td>2b443178-6fca-4f85-8551-baf2d1b08e59</td>\n      <td>True</td>\n      <td>True</td>\n      <td>pessimistic</td>\n      <td>[1, 3, 10]</td>\n      <td>128</td>\n      <td>32</td>\n      <td>None</td>\n      <td>...</td>\n      <td>16</td>\n      <td>628.517639</td>\n      <td>0.555045</td>\n      <td>13</td>\n      <td>0.500654</td>\n      <td>0.576659</td>\n      <td>0.663289</td>\n      <td>False</td>\n      <td>True</td>\n      <td>False</td>\n    </tr>\n    <tr>\n      <th>10</th>\n      <td>11</td>\n      <td>2023-02-08 14:43:04.845086+00:00</td>\n      <td>146f0c79-fb75-4f40-a1ec-e8e2f1fac82f</td>\n      <td>True</td>\n      <td>True</td>\n      <td>pessimistic</td>\n      <td>[1, 3, 10]</td>\n      <td>128</td>\n      <td>32</td>\n      <td>None</td>\n      <td>...</td>\n      <td>19</td>\n      <td>630.488037</td>\n      <td>0.553884</td>\n      <td>11</td>\n      <td>0.498039</td>\n      <td>0.578294</td>\n      <td>0.663779</td>\n      <td>False</td>\n      <td>True</td>\n      <td>False</td>\n    </tr>\n  </tbody>\n</table>\n<p>3 rows × 46 columns</p>\n</div>"
     },
     "execution_count": 34,
     "metadata": {},
     "output_type": "execute_result"
    }
   ],
   "source": [
    "wnrr_replications"
   ],
   "metadata": {
    "collapsed": false
   }
  },
  {
   "cell_type": "code",
   "execution_count": 35,
   "outputs": [
    {
     "name": "stdout",
     "output_type": "stream",
     "text": [
      "0.554101844628652\n",
      "0.0008549728254292972\n"
     ]
    },
    {
     "data": {
      "text/plain": "(0.5524260978908105, 0.5557775913664934)"
     },
     "execution_count": 35,
     "metadata": {},
     "output_type": "execute_result"
    }
   ],
   "source": [
    "# MRR\n",
    "print(\n",
    "    wnrr_replications.mrr.mean()\n",
    ")\n",
    "print(\n",
    "    wnrr_replications.mrr.std()\n",
    ")\n",
    "wnrr_replications.mrr.var()\n",
    "(\n",
    "        wnrr_replications.mrr.mean()  - 1.96 * wnrr_replications.mrr.std(),\n",
    "         wnrr_replications.mrr.mean()  + 1.96 * wnrr_replications.mrr.std()\n",
    ")"
   ],
   "metadata": {
    "collapsed": false
   }
  },
  {
   "cell_type": "code",
   "execution_count": 36,
   "outputs": [
    {
     "name": "stdout",
     "output_type": "stream",
     "text": [
      "629.6726888020834\n",
      "1.0281851813443805\n"
     ]
    },
    {
     "data": {
      "text/plain": "(627.6574458466483, 631.6879317575184)"
     },
     "execution_count": 36,
     "metadata": {},
     "output_type": "execute_result"
    }
   ],
   "source": [
    "# MR\n",
    "print(\n",
    "    wnrr_replications.mr.mean()\n",
    ")\n",
    "print(\n",
    "    wnrr_replications.mr.std()\n",
    ")\n",
    "(\n",
    "        wnrr_replications.mr.mean()  - 1.96 * wnrr_replications.mr.std(),\n",
    "         wnrr_replications.mr.mean()  + 1.96 * wnrr_replications.mr.std()\n",
    ")"
   ],
   "metadata": {
    "collapsed": false
   }
  },
  {
   "cell_type": "code",
   "execution_count": 37,
   "outputs": [
    {
     "name": "stdout",
     "output_type": "stream",
     "text": [
      "0.49907376368840534\n",
      "0.0013901471308925314\n"
     ]
    },
    {
     "data": {
      "text/plain": "(0.49634907531185596, 0.5017984520649547)"
     },
     "execution_count": 37,
     "metadata": {},
     "output_type": "execute_result"
    }
   ],
   "source": [
    "print(wnrr_replications[\"hits_at_N.hits_at_1\"].mean())\n",
    "print(wnrr_replications[\"hits_at_N.hits_at_1\"].std())\n",
    "(\n",
    "        wnrr_replications[\"hits_at_N.hits_at_1\"].mean()  - 1.96 * wnrr_replications[\"hits_at_N.hits_at_1\"].std(),\n",
    "         wnrr_replications[\"hits_at_N.hits_at_1\"].mean()  + 1.96 * wnrr_replications[\"hits_at_N.hits_at_1\"].std()\n",
    ")"
   ],
   "metadata": {
    "collapsed": false
   }
  },
  {
   "cell_type": "code",
   "execution_count": 38,
   "outputs": [
    {
     "name": "stdout",
     "output_type": "stream",
     "text": [
      "0.5778031945228577\n",
      "0.0009942448763878358\n"
     ]
    },
    {
     "data": {
      "text/plain": "(0.5758544745651375, 0.5797519144805778)"
     },
     "execution_count": 38,
     "metadata": {},
     "output_type": "execute_result"
    }
   ],
   "source": [
    "print(wnrr_replications[\"hits_at_N.hits_at_3\"].mean())\n",
    "print(wnrr_replications[\"hits_at_N.hits_at_3\"].std())\n",
    "(\n",
    "        wnrr_replications[\"hits_at_N.hits_at_3\"].mean()  - 1.96 * wnrr_replications[\"hits_at_N.hits_at_3\"].std(),\n",
    "         wnrr_replications[\"hits_at_N.hits_at_3\"].mean()  + 1.96 * wnrr_replications[\"hits_at_N.hits_at_3\"].std()\n",
    ")"
   ],
   "metadata": {
    "collapsed": false
   }
  },
  {
   "cell_type": "code",
   "execution_count": 39,
   "outputs": [
    {
     "name": "stdout",
     "output_type": "stream",
     "text": [
      "0.6632886528968811\n",
      "0.0004903674125671387\n"
     ]
    },
    {
     "data": {
      "text/plain": "(0.6623275327682495, 0.6642497730255127)"
     },
     "execution_count": 39,
     "metadata": {},
     "output_type": "execute_result"
    }
   ],
   "source": [
    "print(wnrr_replications[\"hits_at_N.hits_at_10\"].mean())\n",
    "print(wnrr_replications[\"hits_at_N.hits_at_10\"].std())\n",
    "(\n",
    "        wnrr_replications[\"hits_at_N.hits_at_10\"].mean()  - 1.96 * wnrr_replications[\"hits_at_N.hits_at_10\"].std(),\n",
    "         wnrr_replications[\"hits_at_N.hits_at_10\"].mean()  + 1.96 * wnrr_replications[\"hits_at_N.hits_at_10\"].std()\n",
    ")"
   ],
   "metadata": {
    "collapsed": false
   }
  },
  {
   "cell_type": "markdown",
   "source": [
    "## FB15k replication"
   ],
   "metadata": {
    "collapsed": false
   }
  },
  {
   "cell_type": "code",
   "execution_count": 40,
   "outputs": [],
   "source": [
    "fb_replication = filter_for_experiment(all_searches,fbk_filter,**{})"
   ],
   "metadata": {
    "collapsed": false
   }
  },
  {
   "cell_type": "code",
   "execution_count": 41,
   "outputs": [
    {
     "data": {
      "text/plain": "   trial_number                       start_date  \\\n0             0 2023-02-21 17:20:45.775984+00:00   \n1             1 2023-02-23 20:29:37.824040+00:00   \n0             0 2023-02-08 21:28:08.653477+00:00   \n\n                               run_id_x  config.run.save_results  \\\n0  db16e8f5-523b-487f-b703-61d1d49d7920                     True   \n1  36e538f9-d092-4ce4-b209-f103ebb5cc9e                     True   \n0  436d6480-d264-4b3e-96f4-bcca64c8b9aa                     True   \n\n   config.run.evaluation.filter config.run.evaluation.ranking_scenario  \\\n0                          True                            pessimistic   \n1                          True                            pessimistic   \n0                          True                            pessimistic   \n\n  config.run.evaluation.hits_at_N  config.run.training.batch_size  \\\n0                      [1, 3, 10]                             256   \n1                      [1, 3, 10]                             256   \n0                      [1, 3, 10]                             256   \n\n   config.run.training.mini_batch_size  \\\n0                                   32   \n1                                   32   \n0                                   32   \n\n  config.run.training.optimizer.other_arguments_kwargs  ... epoch          mr  \\\n0                                               None    ...    13  115.415985   \n1                                               None    ...    12  111.471054   \n0                                               None    ...    13  111.601357   \n\n        mrr  run_id_y hits_at_N.hits_at_1 hits_at_N.hits_at_3  \\\n0  0.411571         0            0.317707            0.451727   \n1  0.413383         1            0.319636            0.453193   \n0  0.415543         0            0.322934            0.455123   \n\n   hits_at_N.hits_at_10  \\\n0              0.594591   \n1              0.597474   \n0              0.598305   \n\n  config.run.training.message_passing.new_representation_based_only_on_update  \\\n0                                              False                            \n1                                              False                            \n0                                              False                            \n\n   config.run.training.message_passing.initial_s_dependent_on_p  \\\n0                                               True              \n1                                               True              \n0                                               True              \n\n   config.run.training.message_passing.learned_zero_vector  \n0                                              False        \n1                                              False        \n0                                              False        \n\n[3 rows x 46 columns]",
      "text/html": "<div>\n<style scoped>\n    .dataframe tbody tr th:only-of-type {\n        vertical-align: middle;\n    }\n\n    .dataframe tbody tr th {\n        vertical-align: top;\n    }\n\n    .dataframe thead th {\n        text-align: right;\n    }\n</style>\n<table border=\"1\" class=\"dataframe\">\n  <thead>\n    <tr style=\"text-align: right;\">\n      <th></th>\n      <th>trial_number</th>\n      <th>start_date</th>\n      <th>run_id_x</th>\n      <th>config.run.save_results</th>\n      <th>config.run.evaluation.filter</th>\n      <th>config.run.evaluation.ranking_scenario</th>\n      <th>config.run.evaluation.hits_at_N</th>\n      <th>config.run.training.batch_size</th>\n      <th>config.run.training.mini_batch_size</th>\n      <th>config.run.training.optimizer.other_arguments_kwargs</th>\n      <th>...</th>\n      <th>epoch</th>\n      <th>mr</th>\n      <th>mrr</th>\n      <th>run_id_y</th>\n      <th>hits_at_N.hits_at_1</th>\n      <th>hits_at_N.hits_at_3</th>\n      <th>hits_at_N.hits_at_10</th>\n      <th>config.run.training.message_passing.new_representation_based_only_on_update</th>\n      <th>config.run.training.message_passing.initial_s_dependent_on_p</th>\n      <th>config.run.training.message_passing.learned_zero_vector</th>\n    </tr>\n  </thead>\n  <tbody>\n    <tr>\n      <th>0</th>\n      <td>0</td>\n      <td>2023-02-21 17:20:45.775984+00:00</td>\n      <td>db16e8f5-523b-487f-b703-61d1d49d7920</td>\n      <td>True</td>\n      <td>True</td>\n      <td>pessimistic</td>\n      <td>[1, 3, 10]</td>\n      <td>256</td>\n      <td>32</td>\n      <td>None</td>\n      <td>...</td>\n      <td>13</td>\n      <td>115.415985</td>\n      <td>0.411571</td>\n      <td>0</td>\n      <td>0.317707</td>\n      <td>0.451727</td>\n      <td>0.594591</td>\n      <td>False</td>\n      <td>True</td>\n      <td>False</td>\n    </tr>\n    <tr>\n      <th>1</th>\n      <td>1</td>\n      <td>2023-02-23 20:29:37.824040+00:00</td>\n      <td>36e538f9-d092-4ce4-b209-f103ebb5cc9e</td>\n      <td>True</td>\n      <td>True</td>\n      <td>pessimistic</td>\n      <td>[1, 3, 10]</td>\n      <td>256</td>\n      <td>32</td>\n      <td>None</td>\n      <td>...</td>\n      <td>12</td>\n      <td>111.471054</td>\n      <td>0.413383</td>\n      <td>1</td>\n      <td>0.319636</td>\n      <td>0.453193</td>\n      <td>0.597474</td>\n      <td>False</td>\n      <td>True</td>\n      <td>False</td>\n    </tr>\n    <tr>\n      <th>0</th>\n      <td>0</td>\n      <td>2023-02-08 21:28:08.653477+00:00</td>\n      <td>436d6480-d264-4b3e-96f4-bcca64c8b9aa</td>\n      <td>True</td>\n      <td>True</td>\n      <td>pessimistic</td>\n      <td>[1, 3, 10]</td>\n      <td>256</td>\n      <td>32</td>\n      <td>None</td>\n      <td>...</td>\n      <td>13</td>\n      <td>111.601357</td>\n      <td>0.415543</td>\n      <td>0</td>\n      <td>0.322934</td>\n      <td>0.455123</td>\n      <td>0.598305</td>\n      <td>False</td>\n      <td>True</td>\n      <td>False</td>\n    </tr>\n  </tbody>\n</table>\n<p>3 rows × 46 columns</p>\n</div>"
     },
     "execution_count": 41,
     "metadata": {},
     "output_type": "execute_result"
    }
   ],
   "source": [
    "fb_replication"
   ],
   "metadata": {
    "collapsed": false
   }
  },
  {
   "cell_type": "code",
   "execution_count": 42,
   "outputs": [
    {
     "name": "stdout",
     "output_type": "stream",
     "text": [
      "0.4134991963704427\n",
      "0.001988650431548579\n"
     ]
    },
    {
     "data": {
      "text/plain": "(0.4096014415246075, 0.4173969512162779)"
     },
     "execution_count": 42,
     "metadata": {},
     "output_type": "execute_result"
    }
   ],
   "source": [
    "print(\n",
    "    fb_replication.mrr.mean()\n",
    ")\n",
    "print(\n",
    "    fb_replication.mrr.std()\n",
    ")\n",
    "(\n",
    "        fb_replication[\"mrr\"].mean()  - 1.96 * fb_replication[\"mrr\"].std(),\n",
    "         fb_replication[\"mrr\"].mean()  + 1.96 * fb_replication[\"mrr\"].std()\n",
    ")"
   ],
   "metadata": {
    "collapsed": false
   }
  },
  {
   "cell_type": "code",
   "execution_count": 43,
   "outputs": [
    {
     "name": "stdout",
     "output_type": "stream",
     "text": [
      "112.82946523030598\n",
      "2.2409391974795936\n"
     ]
    },
    {
     "data": {
      "text/plain": "(108.43722440324598, 117.22170605736599)"
     },
     "execution_count": 43,
     "metadata": {},
     "output_type": "execute_result"
    }
   ],
   "source": [
    "# MR\n",
    "print(\n",
    "    fb_replication.mr.mean()\n",
    ")\n",
    "print(\n",
    "    fb_replication.mr.std()\n",
    ")\n",
    "(\n",
    "        fb_replication[\"mr\"].mean()  - 1.96 * fb_replication[\"mr\"].std(),\n",
    "         fb_replication[\"mr\"].mean()  + 1.96 * fb_replication[\"mr\"].std()\n",
    ")"
   ],
   "metadata": {
    "collapsed": false
   }
  },
  {
   "cell_type": "code",
   "execution_count": 44,
   "outputs": [
    {
     "name": "stdout",
     "output_type": "stream",
     "text": [
      "0.3200925091902415\n",
      "0.002643625956062233\n"
     ]
    },
    {
     "data": {
      "text/plain": "(0.31491100231635955, 0.3252740160641235)"
     },
     "execution_count": 44,
     "metadata": {},
     "output_type": "execute_result"
    }
   ],
   "source": [
    "print(fb_replication[\"hits_at_N.hits_at_1\"].mean())\n",
    "print(fb_replication[\"hits_at_N.hits_at_1\"].std())\n",
    "(\n",
    "        fb_replication[\"hits_at_N.hits_at_1\"].mean()  - 1.96 * fb_replication[\"hits_at_N.hits_at_1\"].std(),\n",
    "         fb_replication[\"hits_at_N.hits_at_1\"].mean()  + 1.96 * fb_replication[\"hits_at_N.hits_at_1\"].std()\n",
    ")"
   ],
   "metadata": {
    "collapsed": false
   }
  },
  {
   "cell_type": "code",
   "execution_count": 45,
   "outputs": [
    {
     "name": "stdout",
     "output_type": "stream",
     "text": [
      "0.4533476730187734\n",
      "0.0017031324339378472\n"
     ]
    },
    {
     "data": {
      "text/plain": "(0.4500095334482552, 0.4566858125892916)"
     },
     "execution_count": 45,
     "metadata": {},
     "output_type": "execute_result"
    }
   ],
   "source": [
    "print(fb_replication[\"hits_at_N.hits_at_3\"].mean())\n",
    "print(fb_replication[\"hits_at_N.hits_at_3\"].std())\n",
    "(\n",
    "        fb_replication[\"hits_at_N.hits_at_3\"].mean()  - 1.96 * fb_replication[\"hits_at_N.hits_at_3\"].std(),\n",
    "         fb_replication[\"hits_at_N.hits_at_3\"].mean()  + 1.96 * fb_replication[\"hits_at_N.hits_at_3\"].std()\n",
    ")"
   ],
   "metadata": {
    "collapsed": false
   }
  },
  {
   "cell_type": "code",
   "execution_count": 46,
   "outputs": [
    {
     "name": "stdout",
     "output_type": "stream",
     "text": [
      "0.5967899560928345\n",
      "0.0019488386766004348\n"
     ]
    },
    {
     "data": {
      "text/plain": "(0.4500095334482552, 0.4566858125892916)"
     },
     "execution_count": 46,
     "metadata": {},
     "output_type": "execute_result"
    }
   ],
   "source": [
    "print(fb_replication[\"hits_at_N.hits_at_10\"].mean())\n",
    "print(fb_replication[\"hits_at_N.hits_at_10\"].std())\n",
    "(\n",
    "        fb_replication[\"hits_at_N.hits_at_3\"].mean()  - 1.96 * fb_replication[\"hits_at_N.hits_at_3\"].std(),\n",
    "         fb_replication[\"hits_at_N.hits_at_3\"].mean()  + 1.96 * fb_replication[\"hits_at_N.hits_at_3\"].std()\n",
    ")"
   ],
   "metadata": {
    "collapsed": false
   }
  },
  {
   "cell_type": "markdown",
   "source": [
    "## Different Path Lengths"
   ],
   "metadata": {
    "collapsed": false
   }
  },
  {
   "cell_type": "code",
   "execution_count": 47,
   "outputs": [],
   "source": [
    "dfs = []\n",
    "for i in [1,2,4,8]:\n",
    "    dfs.append(filter_for_experiment(all_searches,wnrr_filter,**{\n",
    "        \"config.run.training.message_passing.edge_representation_dimensionalities\": i\n",
    "    }))"
   ],
   "metadata": {
    "collapsed": false
   }
  },
  {
   "cell_type": "code",
   "execution_count": 48,
   "outputs": [
    {
     "data": {
      "text/plain": "  config.run.training.message_passing.edge_representation_dimensionalities  \\\n0                                               [32]                         \n6                                           [32, 32]                         \n0                                   [32, 32, 32, 32]                         \n0                   [32, 32, 32, 32, 32, 32, 32, 32]                         \n\n            mr       mrr  hits_at_N.hits_at_1  hits_at_N.hits_at_3  \\\n0  8382.252930  0.360100             0.354691             0.358450   \n6  1753.554199  0.422301             0.401275             0.429716   \n0   889.356323  0.537406             0.491174             0.556718   \n0   530.184204  0.555297             0.497712             0.579928   \n\n   hits_at_N.hits_at_10  \n0              0.368258  \n6              0.460281  \n0              0.636646  \n0              0.669990  ",
      "text/html": "<div>\n<style scoped>\n    .dataframe tbody tr th:only-of-type {\n        vertical-align: middle;\n    }\n\n    .dataframe tbody tr th {\n        vertical-align: top;\n    }\n\n    .dataframe thead th {\n        text-align: right;\n    }\n</style>\n<table border=\"1\" class=\"dataframe\">\n  <thead>\n    <tr style=\"text-align: right;\">\n      <th></th>\n      <th>config.run.training.message_passing.edge_representation_dimensionalities</th>\n      <th>mr</th>\n      <th>mrr</th>\n      <th>hits_at_N.hits_at_1</th>\n      <th>hits_at_N.hits_at_3</th>\n      <th>hits_at_N.hits_at_10</th>\n    </tr>\n  </thead>\n  <tbody>\n    <tr>\n      <th>0</th>\n      <td>[32]</td>\n      <td>8382.252930</td>\n      <td>0.360100</td>\n      <td>0.354691</td>\n      <td>0.358450</td>\n      <td>0.368258</td>\n    </tr>\n    <tr>\n      <th>6</th>\n      <td>[32, 32]</td>\n      <td>1753.554199</td>\n      <td>0.422301</td>\n      <td>0.401275</td>\n      <td>0.429716</td>\n      <td>0.460281</td>\n    </tr>\n    <tr>\n      <th>0</th>\n      <td>[32, 32, 32, 32]</td>\n      <td>889.356323</td>\n      <td>0.537406</td>\n      <td>0.491174</td>\n      <td>0.556718</td>\n      <td>0.636646</td>\n    </tr>\n    <tr>\n      <th>0</th>\n      <td>[32, 32, 32, 32, 32, 32, 32, 32]</td>\n      <td>530.184204</td>\n      <td>0.555297</td>\n      <td>0.497712</td>\n      <td>0.579928</td>\n      <td>0.669990</td>\n    </tr>\n  </tbody>\n</table>\n</div>"
     },
     "execution_count": 48,
     "metadata": {},
     "output_type": "execute_result"
    }
   ],
   "source": [
    "pd.concat(dfs)[[\n",
    "    \"config.run.training.message_passing.edge_representation_dimensionalities\",\n",
    "    \"mr\",\n",
    "    \"mrr\",\n",
    "    \"hits_at_N.hits_at_1\",\n",
    "    \"hits_at_N.hits_at_3\",\n",
    "    \"hits_at_N.hits_at_10\"\n",
    "]]"
   ],
   "metadata": {
    "collapsed": false
   }
  },
  {
   "cell_type": "markdown",
   "source": [
    "## Message and Aggregation Functions"
   ],
   "metadata": {
    "collapsed": false
   }
  },
  {
   "cell_type": "code",
   "execution_count": 49,
   "outputs": [],
   "source": [
    "dfs = []\n",
    "for msg in [\"transe\",\"distmult\",\"rotate\"]:\n",
    "    for agg in [\"sum\",\"mean\",\"max\",\"pna\"]:\n",
    "        dfs.append(filter_for_experiment(all_searches,wnrr_filter,**{\n",
    "            \"config.run.training.message_passing.aggregation_function\": agg,\n",
    "            \"config.run.training.message_passing.messanger_function\": msg\n",
    "\n",
    "        }))"
   ],
   "metadata": {
    "collapsed": false
   }
  },
  {
   "cell_type": "code",
   "execution_count": 50,
   "outputs": [
    {
     "data": {
      "text/plain": "   config.run.training.message_passing.aggregation_function  \\\n2                                                 sum         \n5                                                 sum         \n4                                                mean         \n1                                                 max         \n0                                                 pna         \n3                                                 sum         \n8                                                mean         \n7                                                 max         \n0                                                 pna         \n2                                                 pna         \n10                                                pna         \n1                                                 sum         \n0                                                mean         \n9                                                 max         \n2                                                 pna         \n\n   config.run.training.message_passing.messanger_function          mr  \\\n2                                              transe      719.037109   \n5                                              transe      707.038391   \n4                                              transe      748.809204   \n1                                              transe      702.348450   \n0                                              transe      673.300415   \n3                                            distmult      647.255615   \n8                                            distmult      692.632385   \n7                                            distmult      717.447021   \n0                                            distmult      630.012390   \n2                                            distmult      628.517639   \n10                                           distmult      630.488037   \n1                                              rotate      662.334229   \n0                                              rotate      683.141174   \n9                                              rotate      725.693848   \n2                                              rotate      631.392578   \n\n         mrr  hits_at_N.hits_at_1  hits_at_N.hits_at_3  hits_at_N.hits_at_10  \n2   0.451002             0.355181             0.510297              0.617522  \n5   0.428198             0.317424             0.502452              0.619974  \n4   0.414866             0.302223             0.488558              0.610167  \n1   0.520140             0.465021             0.543151              0.632396  \n0   0.536406             0.482347             0.560150              0.644655  \n3   0.538037             0.482347             0.560314              0.650539  \n8   0.528277             0.474011             0.547728              0.640569  \n7   0.534928             0.481530             0.556064              0.642530  \n0   0.553377             0.498529             0.578457              0.662798  \n2   0.555045             0.500654             0.576659              0.663289  \n10  0.553884             0.498039             0.578294              0.663779  \n1   0.534802             0.480222             0.555410              0.646453  \n0   0.531169             0.477607             0.550507              0.641550  \n9   0.538571             0.485616             0.560477              0.648088  \n2   0.548624             0.494116             0.572409              0.659039  ",
      "text/html": "<div>\n<style scoped>\n    .dataframe tbody tr th:only-of-type {\n        vertical-align: middle;\n    }\n\n    .dataframe tbody tr th {\n        vertical-align: top;\n    }\n\n    .dataframe thead th {\n        text-align: right;\n    }\n</style>\n<table border=\"1\" class=\"dataframe\">\n  <thead>\n    <tr style=\"text-align: right;\">\n      <th></th>\n      <th>config.run.training.message_passing.aggregation_function</th>\n      <th>config.run.training.message_passing.messanger_function</th>\n      <th>mr</th>\n      <th>mrr</th>\n      <th>hits_at_N.hits_at_1</th>\n      <th>hits_at_N.hits_at_3</th>\n      <th>hits_at_N.hits_at_10</th>\n    </tr>\n  </thead>\n  <tbody>\n    <tr>\n      <th>2</th>\n      <td>sum</td>\n      <td>transe</td>\n      <td>719.037109</td>\n      <td>0.451002</td>\n      <td>0.355181</td>\n      <td>0.510297</td>\n      <td>0.617522</td>\n    </tr>\n    <tr>\n      <th>5</th>\n      <td>sum</td>\n      <td>transe</td>\n      <td>707.038391</td>\n      <td>0.428198</td>\n      <td>0.317424</td>\n      <td>0.502452</td>\n      <td>0.619974</td>\n    </tr>\n    <tr>\n      <th>4</th>\n      <td>mean</td>\n      <td>transe</td>\n      <td>748.809204</td>\n      <td>0.414866</td>\n      <td>0.302223</td>\n      <td>0.488558</td>\n      <td>0.610167</td>\n    </tr>\n    <tr>\n      <th>1</th>\n      <td>max</td>\n      <td>transe</td>\n      <td>702.348450</td>\n      <td>0.520140</td>\n      <td>0.465021</td>\n      <td>0.543151</td>\n      <td>0.632396</td>\n    </tr>\n    <tr>\n      <th>0</th>\n      <td>pna</td>\n      <td>transe</td>\n      <td>673.300415</td>\n      <td>0.536406</td>\n      <td>0.482347</td>\n      <td>0.560150</td>\n      <td>0.644655</td>\n    </tr>\n    <tr>\n      <th>3</th>\n      <td>sum</td>\n      <td>distmult</td>\n      <td>647.255615</td>\n      <td>0.538037</td>\n      <td>0.482347</td>\n      <td>0.560314</td>\n      <td>0.650539</td>\n    </tr>\n    <tr>\n      <th>8</th>\n      <td>mean</td>\n      <td>distmult</td>\n      <td>692.632385</td>\n      <td>0.528277</td>\n      <td>0.474011</td>\n      <td>0.547728</td>\n      <td>0.640569</td>\n    </tr>\n    <tr>\n      <th>7</th>\n      <td>max</td>\n      <td>distmult</td>\n      <td>717.447021</td>\n      <td>0.534928</td>\n      <td>0.481530</td>\n      <td>0.556064</td>\n      <td>0.642530</td>\n    </tr>\n    <tr>\n      <th>0</th>\n      <td>pna</td>\n      <td>distmult</td>\n      <td>630.012390</td>\n      <td>0.553377</td>\n      <td>0.498529</td>\n      <td>0.578457</td>\n      <td>0.662798</td>\n    </tr>\n    <tr>\n      <th>2</th>\n      <td>pna</td>\n      <td>distmult</td>\n      <td>628.517639</td>\n      <td>0.555045</td>\n      <td>0.500654</td>\n      <td>0.576659</td>\n      <td>0.663289</td>\n    </tr>\n    <tr>\n      <th>10</th>\n      <td>pna</td>\n      <td>distmult</td>\n      <td>630.488037</td>\n      <td>0.553884</td>\n      <td>0.498039</td>\n      <td>0.578294</td>\n      <td>0.663779</td>\n    </tr>\n    <tr>\n      <th>1</th>\n      <td>sum</td>\n      <td>rotate</td>\n      <td>662.334229</td>\n      <td>0.534802</td>\n      <td>0.480222</td>\n      <td>0.555410</td>\n      <td>0.646453</td>\n    </tr>\n    <tr>\n      <th>0</th>\n      <td>mean</td>\n      <td>rotate</td>\n      <td>683.141174</td>\n      <td>0.531169</td>\n      <td>0.477607</td>\n      <td>0.550507</td>\n      <td>0.641550</td>\n    </tr>\n    <tr>\n      <th>9</th>\n      <td>max</td>\n      <td>rotate</td>\n      <td>725.693848</td>\n      <td>0.538571</td>\n      <td>0.485616</td>\n      <td>0.560477</td>\n      <td>0.648088</td>\n    </tr>\n    <tr>\n      <th>2</th>\n      <td>pna</td>\n      <td>rotate</td>\n      <td>631.392578</td>\n      <td>0.548624</td>\n      <td>0.494116</td>\n      <td>0.572409</td>\n      <td>0.659039</td>\n    </tr>\n  </tbody>\n</table>\n</div>"
     },
     "execution_count": 50,
     "metadata": {},
     "output_type": "execute_result"
    }
   ],
   "source": [
    "pd.concat(dfs)[[\n",
    "    \"config.run.training.message_passing.aggregation_function\",\n",
    "    \"config.run.training.message_passing.messanger_function\",\n",
    "    \"mr\",\n",
    "    \"mrr\",\n",
    "    \"hits_at_N.hits_at_1\",\n",
    "    \"hits_at_N.hits_at_3\",\n",
    "    \"hits_at_N.hits_at_10\"\n",
    "]]"
   ],
   "metadata": {
    "collapsed": false
   }
  },
  {
   "cell_type": "markdown",
   "source": [
    "## Batchsize"
   ],
   "metadata": {
    "collapsed": false
   }
  },
  {
   "cell_type": "code",
   "execution_count": 51,
   "outputs": [
    {
     "data": {
      "text/plain": "   config.run.training.batch_size  config.run.training.mini_batch_size  \\\n0                              32                                   32   \n0                              64                                   32   \n0                             256                                   32   \n\n           mr       mrr  hits_at_N.hits_at_1  hits_at_N.hits_at_3  \\\n0  652.472168  0.551427             0.495914             0.573063   \n0  637.483215  0.558537             0.505604             0.581012   \n0  634.529358  0.555944             0.501876             0.577619   \n\n   hits_at_N.hits_at_10  \n0              0.667211  \n0              0.666667  \n0              0.665302  ",
      "text/html": "<div>\n<style scoped>\n    .dataframe tbody tr th:only-of-type {\n        vertical-align: middle;\n    }\n\n    .dataframe tbody tr th {\n        vertical-align: top;\n    }\n\n    .dataframe thead th {\n        text-align: right;\n    }\n</style>\n<table border=\"1\" class=\"dataframe\">\n  <thead>\n    <tr style=\"text-align: right;\">\n      <th></th>\n      <th>config.run.training.batch_size</th>\n      <th>config.run.training.mini_batch_size</th>\n      <th>mr</th>\n      <th>mrr</th>\n      <th>hits_at_N.hits_at_1</th>\n      <th>hits_at_N.hits_at_3</th>\n      <th>hits_at_N.hits_at_10</th>\n    </tr>\n  </thead>\n  <tbody>\n    <tr>\n      <th>0</th>\n      <td>32</td>\n      <td>32</td>\n      <td>652.472168</td>\n      <td>0.551427</td>\n      <td>0.495914</td>\n      <td>0.573063</td>\n      <td>0.667211</td>\n    </tr>\n    <tr>\n      <th>0</th>\n      <td>64</td>\n      <td>32</td>\n      <td>637.483215</td>\n      <td>0.558537</td>\n      <td>0.505604</td>\n      <td>0.581012</td>\n      <td>0.666667</td>\n    </tr>\n    <tr>\n      <th>0</th>\n      <td>256</td>\n      <td>32</td>\n      <td>634.529358</td>\n      <td>0.555944</td>\n      <td>0.501876</td>\n      <td>0.577619</td>\n      <td>0.665302</td>\n    </tr>\n  </tbody>\n</table>\n</div>"
     },
     "execution_count": 51,
     "metadata": {},
     "output_type": "execute_result"
    }
   ],
   "source": [
    "dfs = []\n",
    "for size in [8,16,32,64,256,512]:\n",
    "        dfs.append(filter_for_experiment(all_searches,wnrr_filter,**{\n",
    "            \"config.run.training.batch_size\": size,\n",
    "        }))\n",
    "pd.concat(dfs)[[\n",
    "    \"config.run.training.batch_size\",\n",
    "    \"config.run.training.mini_batch_size\",\n",
    "    \"mr\",\n",
    "    \"mrr\",\n",
    "    \"hits_at_N.hits_at_1\",\n",
    "    \"hits_at_N.hits_at_3\",\n",
    "    \"hits_at_N.hits_at_10\"\n",
    "]]"
   ],
   "metadata": {
    "collapsed": false
   }
  },
  {
   "cell_type": "markdown",
   "source": [
    "## Negative Examples\n"
   ],
   "metadata": {
    "collapsed": false
   }
  },
  {
   "cell_type": "code",
   "execution_count": 52,
   "outputs": [
    {
     "data": {
      "text/plain": "   config.run.data.negative_sampling.n_negative_samples          mr       mrr  \\\n0                                                 16     646.195801  0.546974   \n0                                                 64     638.236145  0.556580   \n0                                                128     614.150818  0.562127   \n\n   hits_at_N.hits_at_1  hits_at_N.hits_at_3  hits_at_N.hits_at_10  \n0             0.493789             0.569140              0.654135  \n0             0.504413             0.576659              0.665904  \n0             0.508663             0.586957              0.666558  ",
      "text/html": "<div>\n<style scoped>\n    .dataframe tbody tr th:only-of-type {\n        vertical-align: middle;\n    }\n\n    .dataframe tbody tr th {\n        vertical-align: top;\n    }\n\n    .dataframe thead th {\n        text-align: right;\n    }\n</style>\n<table border=\"1\" class=\"dataframe\">\n  <thead>\n    <tr style=\"text-align: right;\">\n      <th></th>\n      <th>config.run.data.negative_sampling.n_negative_samples</th>\n      <th>mr</th>\n      <th>mrr</th>\n      <th>hits_at_N.hits_at_1</th>\n      <th>hits_at_N.hits_at_3</th>\n      <th>hits_at_N.hits_at_10</th>\n    </tr>\n  </thead>\n  <tbody>\n    <tr>\n      <th>0</th>\n      <td>16</td>\n      <td>646.195801</td>\n      <td>0.546974</td>\n      <td>0.493789</td>\n      <td>0.569140</td>\n      <td>0.654135</td>\n    </tr>\n    <tr>\n      <th>0</th>\n      <td>64</td>\n      <td>638.236145</td>\n      <td>0.556580</td>\n      <td>0.504413</td>\n      <td>0.576659</td>\n      <td>0.665904</td>\n    </tr>\n    <tr>\n      <th>0</th>\n      <td>128</td>\n      <td>614.150818</td>\n      <td>0.562127</td>\n      <td>0.508663</td>\n      <td>0.586957</td>\n      <td>0.666558</td>\n    </tr>\n  </tbody>\n</table>\n</div>"
     },
     "execution_count": 52,
     "metadata": {},
     "output_type": "execute_result"
    }
   ],
   "source": [
    "dfs = []\n",
    "for size in [16,64,128,256]:\n",
    "        dfs.append(filter_for_experiment(all_searches,wnrr_filter,**{\n",
    "            \"config.run.data.negative_sampling.n_negative_samples\": size,\n",
    "        }))\n",
    "pd.concat(dfs)[[\n",
    "    \"config.run.data.negative_sampling.n_negative_samples\",\n",
    "    \"mr\",\n",
    "    \"mrr\",\n",
    "    \"hits_at_N.hits_at_1\",\n",
    "    \"hits_at_N.hits_at_3\",\n",
    "    \"hits_at_N.hits_at_10\"\n",
    "]]"
   ],
   "metadata": {
    "collapsed": false
   }
  },
  {
   "cell_type": "markdown",
   "source": [
    "## Temperature Experiments"
   ],
   "metadata": {
    "collapsed": false
   }
  },
  {
   "cell_type": "code",
   "execution_count": 53,
   "outputs": [],
   "source": [
    "dfs = []\n",
    "for temp in [0,0.25,0.5,0.75,1.25,1.5]:\n",
    "        dfs.append(filter_for_experiment(all_searches,wnrr_filter,**{\n",
    "            \"config.run.training.adversarial_temperature\": temp,\n",
    "        }))"
   ],
   "metadata": {
    "collapsed": false
   }
  },
  {
   "cell_type": "code",
   "execution_count": 54,
   "outputs": [
    {
     "data": {
      "text/plain": "   config.run.training.adversarial_temperature          mr       mrr  \\\n1                                         0.00  615.180603  0.518848   \n2                                         0.25  666.123047  0.556298   \n4                                         0.50  641.848633  0.556275   \n3                                         0.75  634.212952  0.554682   \n0                                         1.25  623.718323  0.553902   \n6                                         1.50  629.704956  0.552945   \n\n   hits_at_N.hits_at_1  hits_at_N.hits_at_3  hits_at_N.hits_at_10  \n1             0.459464             0.541680              0.637463  \n2             0.502452             0.578947              0.663289  \n4             0.500817             0.583524              0.666558  \n3             0.499673             0.577640              0.660837  \n0             0.498039             0.580582              0.662962  \n6             0.498529             0.576496              0.661491  ",
      "text/html": "<div>\n<style scoped>\n    .dataframe tbody tr th:only-of-type {\n        vertical-align: middle;\n    }\n\n    .dataframe tbody tr th {\n        vertical-align: top;\n    }\n\n    .dataframe thead th {\n        text-align: right;\n    }\n</style>\n<table border=\"1\" class=\"dataframe\">\n  <thead>\n    <tr style=\"text-align: right;\">\n      <th></th>\n      <th>config.run.training.adversarial_temperature</th>\n      <th>mr</th>\n      <th>mrr</th>\n      <th>hits_at_N.hits_at_1</th>\n      <th>hits_at_N.hits_at_3</th>\n      <th>hits_at_N.hits_at_10</th>\n    </tr>\n  </thead>\n  <tbody>\n    <tr>\n      <th>1</th>\n      <td>0.00</td>\n      <td>615.180603</td>\n      <td>0.518848</td>\n      <td>0.459464</td>\n      <td>0.541680</td>\n      <td>0.637463</td>\n    </tr>\n    <tr>\n      <th>2</th>\n      <td>0.25</td>\n      <td>666.123047</td>\n      <td>0.556298</td>\n      <td>0.502452</td>\n      <td>0.578947</td>\n      <td>0.663289</td>\n    </tr>\n    <tr>\n      <th>4</th>\n      <td>0.50</td>\n      <td>641.848633</td>\n      <td>0.556275</td>\n      <td>0.500817</td>\n      <td>0.583524</td>\n      <td>0.666558</td>\n    </tr>\n    <tr>\n      <th>3</th>\n      <td>0.75</td>\n      <td>634.212952</td>\n      <td>0.554682</td>\n      <td>0.499673</td>\n      <td>0.577640</td>\n      <td>0.660837</td>\n    </tr>\n    <tr>\n      <th>0</th>\n      <td>1.25</td>\n      <td>623.718323</td>\n      <td>0.553902</td>\n      <td>0.498039</td>\n      <td>0.580582</td>\n      <td>0.662962</td>\n    </tr>\n    <tr>\n      <th>6</th>\n      <td>1.50</td>\n      <td>629.704956</td>\n      <td>0.552945</td>\n      <td>0.498529</td>\n      <td>0.576496</td>\n      <td>0.661491</td>\n    </tr>\n  </tbody>\n</table>\n</div>"
     },
     "execution_count": 54,
     "metadata": {},
     "output_type": "execute_result"
    }
   ],
   "source": [
    "pd.concat(dfs)[[\n",
    "    \"config.run.training.adversarial_temperature\",\n",
    "    \"mr\",\n",
    "    \"mrr\",\n",
    "    \"hits_at_N.hits_at_1\",\n",
    "    \"hits_at_N.hits_at_3\",\n",
    "    \"hits_at_N.hits_at_10\"\n",
    "]]\n",
    "\n"
   ],
   "metadata": {
    "collapsed": false
   }
  },
  {
   "cell_type": "markdown",
   "source": [
    "## 1-Hop"
   ],
   "metadata": {
    "collapsed": false
   }
  },
  {
   "cell_type": "code",
   "execution_count": 55,
   "outputs": [
    {
     "data": {
      "text/plain": "   config.run.data.remove_easy_edges          mr      mrr  \\\n0                               True  628.848145  0.48313   \n\n   hits_at_N.hits_at_1  hits_at_N.hits_at_3  hits_at_N.hits_at_10  \n0             0.388526              0.54544              0.656097  ",
      "text/html": "<div>\n<style scoped>\n    .dataframe tbody tr th:only-of-type {\n        vertical-align: middle;\n    }\n\n    .dataframe tbody tr th {\n        vertical-align: top;\n    }\n\n    .dataframe thead th {\n        text-align: right;\n    }\n</style>\n<table border=\"1\" class=\"dataframe\">\n  <thead>\n    <tr style=\"text-align: right;\">\n      <th></th>\n      <th>config.run.data.remove_easy_edges</th>\n      <th>mr</th>\n      <th>mrr</th>\n      <th>hits_at_N.hits_at_1</th>\n      <th>hits_at_N.hits_at_3</th>\n      <th>hits_at_N.hits_at_10</th>\n    </tr>\n  </thead>\n  <tbody>\n    <tr>\n      <th>0</th>\n      <td>True</td>\n      <td>628.848145</td>\n      <td>0.48313</td>\n      <td>0.388526</td>\n      <td>0.54544</td>\n      <td>0.656097</td>\n    </tr>\n  </tbody>\n</table>\n</div>"
     },
     "execution_count": 55,
     "metadata": {},
     "output_type": "execute_result"
    }
   ],
   "source": [
    "filter_for_experiment(all_searches,wnrr_filter,**{\n",
    "            \"config.run.data.remove_easy_edges\": True,\n",
    "        })[[\n",
    "    \"config.run.data.remove_easy_edges\",\n",
    "    \"mr\",\n",
    "    \"mrr\",\n",
    "    \"hits_at_N.hits_at_1\",\n",
    "    \"hits_at_N.hits_at_3\",\n",
    "    \"hits_at_N.hits_at_10\"\n",
    "]]"
   ],
   "metadata": {
    "collapsed": false
   }
  },
  {
   "cell_type": "markdown",
   "source": [
    "## 1-Hop FBK"
   ],
   "metadata": {
    "collapsed": false
   }
  },
  {
   "cell_type": "code",
   "execution_count": 56,
   "outputs": [
    {
     "data": {
      "text/plain": "   config.run.data.remove_easy_edges          mr       mrr  \\\n0                              False  116.265282  0.371872   \n\n   hits_at_N.hits_at_1  hits_at_N.hits_at_3  hits_at_N.hits_at_10  \n0             0.270655             0.412298              0.575512  ",
      "text/html": "<div>\n<style scoped>\n    .dataframe tbody tr th:only-of-type {\n        vertical-align: middle;\n    }\n\n    .dataframe tbody tr th {\n        vertical-align: top;\n    }\n\n    .dataframe thead th {\n        text-align: right;\n    }\n</style>\n<table border=\"1\" class=\"dataframe\">\n  <thead>\n    <tr style=\"text-align: right;\">\n      <th></th>\n      <th>config.run.data.remove_easy_edges</th>\n      <th>mr</th>\n      <th>mrr</th>\n      <th>hits_at_N.hits_at_1</th>\n      <th>hits_at_N.hits_at_3</th>\n      <th>hits_at_N.hits_at_10</th>\n    </tr>\n  </thead>\n  <tbody>\n    <tr>\n      <th>0</th>\n      <td>False</td>\n      <td>116.265282</td>\n      <td>0.371872</td>\n      <td>0.270655</td>\n      <td>0.412298</td>\n      <td>0.575512</td>\n    </tr>\n  </tbody>\n</table>\n</div>"
     },
     "execution_count": 56,
     "metadata": {},
     "output_type": "execute_result"
    }
   ],
   "source": [
    "filter_for_experiment(all_searches,fbk_filter,**{\n",
    "            \"config.run.data.remove_easy_edges\": False,\n",
    "        })[[\n",
    "    \"config.run.data.remove_easy_edges\",\n",
    "    \"mr\",\n",
    "    \"mrr\",\n",
    "    \"hits_at_N.hits_at_1\",\n",
    "    \"hits_at_N.hits_at_3\",\n",
    "    \"hits_at_N.hits_at_10\"\n",
    "]]"
   ],
   "metadata": {
    "collapsed": false
   }
  },
  {
   "cell_type": "markdown",
   "source": [
    "## Dimensionality\n"
   ],
   "metadata": {
    "collapsed": false
   }
  },
  {
   "cell_type": "code",
   "execution_count": 57,
   "outputs": [
    {
     "data": {
      "text/plain": "   config.run.training.message_passing.query_embedding_dimensionality  \\\n0                                                 16                    \n0                                                 64                    \n0                                                128                    \n\n   config.run.training.mini_batch_size          mr       mrr  \\\n0                                   32  643.491943  0.541565   \n0                                   16  641.100037  0.561086   \n0                                    8  634.982666  0.563211   \n\n   hits_at_N.hits_at_1  hits_at_N.hits_at_3  hits_at_N.hits_at_10  \n0             0.485616             0.566362              0.652010  \n0             0.507519             0.583197              0.669173  \n0             0.509153             0.585322              0.669663  ",
      "text/html": "<div>\n<style scoped>\n    .dataframe tbody tr th:only-of-type {\n        vertical-align: middle;\n    }\n\n    .dataframe tbody tr th {\n        vertical-align: top;\n    }\n\n    .dataframe thead th {\n        text-align: right;\n    }\n</style>\n<table border=\"1\" class=\"dataframe\">\n  <thead>\n    <tr style=\"text-align: right;\">\n      <th></th>\n      <th>config.run.training.message_passing.query_embedding_dimensionality</th>\n      <th>config.run.training.mini_batch_size</th>\n      <th>mr</th>\n      <th>mrr</th>\n      <th>hits_at_N.hits_at_1</th>\n      <th>hits_at_N.hits_at_3</th>\n      <th>hits_at_N.hits_at_10</th>\n    </tr>\n  </thead>\n  <tbody>\n    <tr>\n      <th>0</th>\n      <td>16</td>\n      <td>32</td>\n      <td>643.491943</td>\n      <td>0.541565</td>\n      <td>0.485616</td>\n      <td>0.566362</td>\n      <td>0.652010</td>\n    </tr>\n    <tr>\n      <th>0</th>\n      <td>64</td>\n      <td>16</td>\n      <td>641.100037</td>\n      <td>0.561086</td>\n      <td>0.507519</td>\n      <td>0.583197</td>\n      <td>0.669173</td>\n    </tr>\n    <tr>\n      <th>0</th>\n      <td>128</td>\n      <td>8</td>\n      <td>634.982666</td>\n      <td>0.563211</td>\n      <td>0.509153</td>\n      <td>0.585322</td>\n      <td>0.669663</td>\n    </tr>\n  </tbody>\n</table>\n</div>"
     },
     "execution_count": 57,
     "metadata": {},
     "output_type": "execute_result"
    }
   ],
   "source": [
    "dfs = []\n",
    "for dim in [16,64,128]:\n",
    "        dfs.append(filter_for_experiment(all_searches,wnrr_filter,**{\n",
    "             \"config.run.training.message_passing.query_embedding_dimensionality\": dim,\n",
    "        }))\n",
    "pd.concat(dfs)[[\n",
    "    \"config.run.training.message_passing.query_embedding_dimensionality\",\n",
    "    \"config.run.training.mini_batch_size\",\n",
    "    \"mr\",\n",
    "    \"mrr\",\n",
    "    \"hits_at_N.hits_at_1\",\n",
    "    \"hits_at_N.hits_at_3\",\n",
    "    \"hits_at_N.hits_at_10\"\n",
    "]]\n"
   ],
   "metadata": {
    "collapsed": false
   }
  },
  {
   "cell_type": "markdown",
   "source": [
    "## Query Dependent Edge Representations"
   ],
   "metadata": {
    "collapsed": false
   }
  },
  {
   "cell_type": "code",
   "execution_count": 58,
   "outputs": [
    {
     "data": {
      "text/plain": "   config.run.training.message_passing.query_dependent_edge_representations  \\\n0                                               True                          \n\n           mr       mrr  hits_at_N.hits_at_1  hits_at_N.hits_at_3  \\\n0  601.982971  0.555044             0.500817             0.577313   \n\n   hits_at_N.hits_at_10  \n0              0.665087  ",
      "text/html": "<div>\n<style scoped>\n    .dataframe tbody tr th:only-of-type {\n        vertical-align: middle;\n    }\n\n    .dataframe tbody tr th {\n        vertical-align: top;\n    }\n\n    .dataframe thead th {\n        text-align: right;\n    }\n</style>\n<table border=\"1\" class=\"dataframe\">\n  <thead>\n    <tr style=\"text-align: right;\">\n      <th></th>\n      <th>config.run.training.message_passing.query_dependent_edge_representations</th>\n      <th>mr</th>\n      <th>mrr</th>\n      <th>hits_at_N.hits_at_1</th>\n      <th>hits_at_N.hits_at_3</th>\n      <th>hits_at_N.hits_at_10</th>\n    </tr>\n  </thead>\n  <tbody>\n    <tr>\n      <th>0</th>\n      <td>True</td>\n      <td>601.982971</td>\n      <td>0.555044</td>\n      <td>0.500817</td>\n      <td>0.577313</td>\n      <td>0.665087</td>\n    </tr>\n  </tbody>\n</table>\n</div>"
     },
     "execution_count": 58,
     "metadata": {},
     "output_type": "execute_result"
    }
   ],
   "source": [
    "filter_for_experiment(all_searches,wnrr_filter,**{\n",
    "            \"config.run.training.message_passing.query_dependent_edge_representations\": True,\n",
    "        })[[\n",
    "    \"config.run.training.message_passing.query_dependent_edge_representations\",\n",
    "    \"mr\",\n",
    "    \"mrr\",\n",
    "    \"hits_at_N.hits_at_1\",\n",
    "    \"hits_at_N.hits_at_3\",\n",
    "    \"hits_at_N.hits_at_10\"\n",
    "]]"
   ],
   "metadata": {
    "collapsed": false
   }
  },
  {
   "cell_type": "markdown",
   "source": [
    "## FBK No query dependent edge reps"
   ],
   "metadata": {
    "collapsed": false
   }
  },
  {
   "cell_type": "code",
   "execution_count": 59,
   "outputs": [
    {
     "data": {
      "text/plain": "   config.run.data.remove_easy_edges          mr       mrr  \\\n0                               True  117.228714  0.408476   \n\n   hits_at_N.hits_at_1  hits_at_N.hits_at_3  hits_at_N.hits_at_10  \n0             0.313383             0.448283                0.5953  ",
      "text/html": "<div>\n<style scoped>\n    .dataframe tbody tr th:only-of-type {\n        vertical-align: middle;\n    }\n\n    .dataframe tbody tr th {\n        vertical-align: top;\n    }\n\n    .dataframe thead th {\n        text-align: right;\n    }\n</style>\n<table border=\"1\" class=\"dataframe\">\n  <thead>\n    <tr style=\"text-align: right;\">\n      <th></th>\n      <th>config.run.data.remove_easy_edges</th>\n      <th>mr</th>\n      <th>mrr</th>\n      <th>hits_at_N.hits_at_1</th>\n      <th>hits_at_N.hits_at_3</th>\n      <th>hits_at_N.hits_at_10</th>\n    </tr>\n  </thead>\n  <tbody>\n    <tr>\n      <th>0</th>\n      <td>True</td>\n      <td>117.228714</td>\n      <td>0.408476</td>\n      <td>0.313383</td>\n      <td>0.448283</td>\n      <td>0.5953</td>\n    </tr>\n  </tbody>\n</table>\n</div>"
     },
     "execution_count": 59,
     "metadata": {},
     "output_type": "execute_result"
    }
   ],
   "source": [
    "filter_for_experiment(all_searches,fbk_filter,**{\n",
    "            \"config.run.training.message_passing.query_dependent_edge_representations\": False,\n",
    "        })[[\n",
    "    \"config.run.data.remove_easy_edges\",\n",
    "    \"mr\",\n",
    "    \"mrr\",\n",
    "    \"hits_at_N.hits_at_1\",\n",
    "    \"hits_at_N.hits_at_3\",\n",
    "    \"hits_at_N.hits_at_10\"\n",
    "]]"
   ],
   "metadata": {
    "collapsed": false
   }
  },
  {
   "cell_type": "markdown",
   "source": [
    "## Skip Connection"
   ],
   "metadata": {
    "collapsed": false
   }
  },
  {
   "cell_type": "code",
   "execution_count": 60,
   "outputs": [
    {
     "data": {
      "text/plain": "   config.run.training.message_passing.skip_connection          mr      mrr  \\\n9                                              False    620.077637  0.55525   \n\n   hits_at_N.hits_at_1  hits_at_N.hits_at_3  hits_at_N.hits_at_10  \n9             0.500163             0.577967              0.665413  ",
      "text/html": "<div>\n<style scoped>\n    .dataframe tbody tr th:only-of-type {\n        vertical-align: middle;\n    }\n\n    .dataframe tbody tr th {\n        vertical-align: top;\n    }\n\n    .dataframe thead th {\n        text-align: right;\n    }\n</style>\n<table border=\"1\" class=\"dataframe\">\n  <thead>\n    <tr style=\"text-align: right;\">\n      <th></th>\n      <th>config.run.training.message_passing.skip_connection</th>\n      <th>mr</th>\n      <th>mrr</th>\n      <th>hits_at_N.hits_at_1</th>\n      <th>hits_at_N.hits_at_3</th>\n      <th>hits_at_N.hits_at_10</th>\n    </tr>\n  </thead>\n  <tbody>\n    <tr>\n      <th>9</th>\n      <td>False</td>\n      <td>620.077637</td>\n      <td>0.55525</td>\n      <td>0.500163</td>\n      <td>0.577967</td>\n      <td>0.665413</td>\n    </tr>\n  </tbody>\n</table>\n</div>"
     },
     "execution_count": 60,
     "metadata": {},
     "output_type": "execute_result"
    }
   ],
   "source": [
    "filter_for_experiment(all_searches,wnrr_filter,**{\n",
    "               \"config.run.training.message_passing.skip_connection\": False,\n",
    "        })[[\n",
    "    \"config.run.training.message_passing.skip_connection\",\n",
    "    \"mr\",\n",
    "    \"mrr\",\n",
    "    \"hits_at_N.hits_at_1\",\n",
    "    \"hits_at_N.hits_at_3\",\n",
    "    \"hits_at_N.hits_at_10\"\n",
    "]]"
   ],
   "metadata": {
    "collapsed": false
   }
  },
  {
   "cell_type": "markdown",
   "source": [
    "## Augmented Scoring"
   ],
   "metadata": {
    "collapsed": false
   }
  },
  {
   "cell_type": "code",
   "execution_count": 61,
   "outputs": [
    {
     "data": {
      "text/plain": "   config.run.training.message_passing.skip_connection          mr       mrr  \\\n7                                               True    897.614075  0.552018   \n\n   hits_at_N.hits_at_1  hits_at_N.hits_at_3  hits_at_N.hits_at_10  \n7              0.49951             0.573553              0.657077  ",
      "text/html": "<div>\n<style scoped>\n    .dataframe tbody tr th:only-of-type {\n        vertical-align: middle;\n    }\n\n    .dataframe tbody tr th {\n        vertical-align: top;\n    }\n\n    .dataframe thead th {\n        text-align: right;\n    }\n</style>\n<table border=\"1\" class=\"dataframe\">\n  <thead>\n    <tr style=\"text-align: right;\">\n      <th></th>\n      <th>config.run.training.message_passing.skip_connection</th>\n      <th>mr</th>\n      <th>mrr</th>\n      <th>hits_at_N.hits_at_1</th>\n      <th>hits_at_N.hits_at_3</th>\n      <th>hits_at_N.hits_at_10</th>\n    </tr>\n  </thead>\n  <tbody>\n    <tr>\n      <th>7</th>\n      <td>True</td>\n      <td>897.614075</td>\n      <td>0.552018</td>\n      <td>0.49951</td>\n      <td>0.573553</td>\n      <td>0.657077</td>\n    </tr>\n  </tbody>\n</table>\n</div>"
     },
     "execution_count": 61,
     "metadata": {},
     "output_type": "execute_result"
    }
   ],
   "source": [
    "filter_for_experiment(all_searches,wnrr_filter,**{\n",
    "              \"config.run.training.scoring.augment_with_query_embedding\": False\n",
    "        })[[\n",
    "    \"config.run.training.message_passing.skip_connection\",\n",
    "    \"mr\",\n",
    "    \"mrr\",\n",
    "    \"hits_at_N.hits_at_1\",\n",
    "    \"hits_at_N.hits_at_3\",\n",
    "    \"hits_at_N.hits_at_10\"\n",
    "]]"
   ],
   "metadata": {
    "collapsed": false
   }
  },
  {
   "cell_type": "markdown",
   "source": [
    "## Self Edges"
   ],
   "metadata": {
    "collapsed": false
   }
  },
  {
   "cell_type": "code",
   "execution_count": 62,
   "outputs": [
    {
     "data": {
      "text/plain": "   config.run.training.add_self_edges  \\\n8                                True   \n\n   config.run.training.message_passing.message_augmentation          mr  \\\n8                                              False         649.546753   \n\n        mrr  hits_at_N.hits_at_1  hits_at_N.hits_at_3  hits_at_N.hits_at_10  \n8  0.554448             0.502452             0.574371              0.659039  ",
      "text/html": "<div>\n<style scoped>\n    .dataframe tbody tr th:only-of-type {\n        vertical-align: middle;\n    }\n\n    .dataframe tbody tr th {\n        vertical-align: top;\n    }\n\n    .dataframe thead th {\n        text-align: right;\n    }\n</style>\n<table border=\"1\" class=\"dataframe\">\n  <thead>\n    <tr style=\"text-align: right;\">\n      <th></th>\n      <th>config.run.training.add_self_edges</th>\n      <th>config.run.training.message_passing.message_augmentation</th>\n      <th>mr</th>\n      <th>mrr</th>\n      <th>hits_at_N.hits_at_1</th>\n      <th>hits_at_N.hits_at_3</th>\n      <th>hits_at_N.hits_at_10</th>\n    </tr>\n  </thead>\n  <tbody>\n    <tr>\n      <th>8</th>\n      <td>True</td>\n      <td>False</td>\n      <td>649.546753</td>\n      <td>0.554448</td>\n      <td>0.502452</td>\n      <td>0.574371</td>\n      <td>0.659039</td>\n    </tr>\n  </tbody>\n</table>\n</div>"
     },
     "execution_count": 62,
     "metadata": {},
     "output_type": "execute_result"
    }
   ],
   "source": [
    "filter_for_experiment(all_searches,wnrr_filter,**{\n",
    "        \"config.run.training.add_self_edges\": True,\n",
    "        \"config.run.training.message_passing.message_augmentation\": False,\n",
    "        \"config.run.training.message_passing.new_representation_based_only_on_update\": False,\n",
    "        })[[\n",
    "    \"config.run.training.add_self_edges\",\n",
    "    \"config.run.training.message_passing.message_augmentation\",\n",
    "    \"mr\",\n",
    "    \"mrr\",\n",
    "    \"hits_at_N.hits_at_1\",\n",
    "    \"hits_at_N.hits_at_3\",\n",
    "    \"hits_at_N.hits_at_10\"\n",
    "]]"
   ],
   "metadata": {
    "collapsed": false
   }
  },
  {
   "cell_type": "code",
   "execution_count": 63,
   "outputs": [
    {
     "data": {
      "text/plain": "   config.run.training.add_self_edges  \\\n3                               False   \n\n   config.run.training.message_passing.message_augmentation          mr  \\\n3                                               True         633.340454   \n\n        mrr  hits_at_N.hits_at_1  hits_at_N.hits_at_3  hits_at_N.hits_at_10  \n3  0.551585             0.499183             0.570775              0.659039  ",
      "text/html": "<div>\n<style scoped>\n    .dataframe tbody tr th:only-of-type {\n        vertical-align: middle;\n    }\n\n    .dataframe tbody tr th {\n        vertical-align: top;\n    }\n\n    .dataframe thead th {\n        text-align: right;\n    }\n</style>\n<table border=\"1\" class=\"dataframe\">\n  <thead>\n    <tr style=\"text-align: right;\">\n      <th></th>\n      <th>config.run.training.add_self_edges</th>\n      <th>config.run.training.message_passing.message_augmentation</th>\n      <th>mr</th>\n      <th>mrr</th>\n      <th>hits_at_N.hits_at_1</th>\n      <th>hits_at_N.hits_at_3</th>\n      <th>hits_at_N.hits_at_10</th>\n    </tr>\n  </thead>\n  <tbody>\n    <tr>\n      <th>3</th>\n      <td>False</td>\n      <td>True</td>\n      <td>633.340454</td>\n      <td>0.551585</td>\n      <td>0.499183</td>\n      <td>0.570775</td>\n      <td>0.659039</td>\n    </tr>\n  </tbody>\n</table>\n</div>"
     },
     "execution_count": 63,
     "metadata": {},
     "output_type": "execute_result"
    }
   ],
   "source": [
    "filter_for_experiment(all_searches,wnrr_filter,**{\n",
    "        \"config.run.training.add_self_edges\": False,\n",
    "        \"config.run.training.message_passing.message_augmentation\": True,\n",
    "        \"config.run.training.message_passing.new_representation_based_only_on_update\": True,\n",
    "        })[[\n",
    "    \"config.run.training.add_self_edges\",\n",
    "    \"config.run.training.message_passing.message_augmentation\",\n",
    "    \"mr\",\n",
    "    \"mrr\",\n",
    "    \"hits_at_N.hits_at_1\",\n",
    "    \"hits_at_N.hits_at_3\",\n",
    "    \"hits_at_N.hits_at_10\"\n",
    "]]"
   ],
   "metadata": {
    "collapsed": false
   }
  },
  {
   "cell_type": "markdown",
   "source": [
    "## SO-Scoring"
   ],
   "metadata": {
    "collapsed": false
   }
  },
  {
   "cell_type": "code",
   "execution_count": 64,
   "outputs": [
    {
     "data": {
      "text/plain": "  config.run.training.scoring.type          mr       mrr  hits_at_N.hits_at_1  \\\n5                               so  532.707214  0.555308             0.499673   \n\n   hits_at_N.hits_at_3  hits_at_N.hits_at_10  \n5             0.577967              0.664269  ",
      "text/html": "<div>\n<style scoped>\n    .dataframe tbody tr th:only-of-type {\n        vertical-align: middle;\n    }\n\n    .dataframe tbody tr th {\n        vertical-align: top;\n    }\n\n    .dataframe thead th {\n        text-align: right;\n    }\n</style>\n<table border=\"1\" class=\"dataframe\">\n  <thead>\n    <tr style=\"text-align: right;\">\n      <th></th>\n      <th>config.run.training.scoring.type</th>\n      <th>mr</th>\n      <th>mrr</th>\n      <th>hits_at_N.hits_at_1</th>\n      <th>hits_at_N.hits_at_3</th>\n      <th>hits_at_N.hits_at_10</th>\n    </tr>\n  </thead>\n  <tbody>\n    <tr>\n      <th>5</th>\n      <td>so</td>\n      <td>532.707214</td>\n      <td>0.555308</td>\n      <td>0.499673</td>\n      <td>0.577967</td>\n      <td>0.664269</td>\n    </tr>\n  </tbody>\n</table>\n</div>"
     },
     "execution_count": 64,
     "metadata": {},
     "output_type": "execute_result"
    }
   ],
   "source": [
    "filter_for_experiment(all_searches,wnrr_filter,**{\n",
    "        \"config.run.training.scoring.type\": \"so\",\n",
    "        })[[\n",
    "    \"config.run.training.scoring.type\",\n",
    "    \"mr\",\n",
    "    \"mrr\",\n",
    "    \"hits_at_N.hits_at_1\",\n",
    "    \"hits_at_N.hits_at_3\",\n",
    "    \"hits_at_N.hits_at_10\"\n",
    "]]"
   ],
   "metadata": {
    "collapsed": false
   }
  },
  {
   "cell_type": "markdown",
   "source": [
    "## O-Scoring excluding P"
   ],
   "metadata": {
    "collapsed": false
   }
  },
  {
   "cell_type": "code",
   "execution_count": 65,
   "outputs": [
    {
     "data": {
      "text/plain": "  config.run.training.scoring.type          mr       mrr  hits_at_N.hits_at_1  \\\n7                                o  897.614075  0.552018              0.49951   \n\n   hits_at_N.hits_at_3  hits_at_N.hits_at_10  \n7             0.573553              0.657077  ",
      "text/html": "<div>\n<style scoped>\n    .dataframe tbody tr th:only-of-type {\n        vertical-align: middle;\n    }\n\n    .dataframe tbody tr th {\n        vertical-align: top;\n    }\n\n    .dataframe thead th {\n        text-align: right;\n    }\n</style>\n<table border=\"1\" class=\"dataframe\">\n  <thead>\n    <tr style=\"text-align: right;\">\n      <th></th>\n      <th>config.run.training.scoring.type</th>\n      <th>mr</th>\n      <th>mrr</th>\n      <th>hits_at_N.hits_at_1</th>\n      <th>hits_at_N.hits_at_3</th>\n      <th>hits_at_N.hits_at_10</th>\n    </tr>\n  </thead>\n  <tbody>\n    <tr>\n      <th>7</th>\n      <td>o</td>\n      <td>897.614075</td>\n      <td>0.552018</td>\n      <td>0.49951</td>\n      <td>0.573553</td>\n      <td>0.657077</td>\n    </tr>\n  </tbody>\n</table>\n</div>"
     },
     "execution_count": 65,
     "metadata": {},
     "output_type": "execute_result"
    }
   ],
   "source": [
    "filter_for_experiment(all_searches,wnrr_filter,**{\n",
    "        \"config.run.training.scoring.type\": \"o\",\n",
    "        \"config.run.training.scoring.augment_with_query_embedding\": False,\n",
    "        })[[\n",
    "    \"config.run.training.scoring.type\",\n",
    "    \"mr\",\n",
    "    \"mrr\",\n",
    "    \"hits_at_N.hits_at_1\",\n",
    "    \"hits_at_N.hits_at_3\",\n",
    "    \"hits_at_N.hits_at_10\"\n",
    "]]"
   ],
   "metadata": {
    "collapsed": false
   }
  },
  {
   "cell_type": "markdown",
   "source": [
    "## Scoring Functions"
   ],
   "metadata": {
    "collapsed": false
   }
  },
  {
   "cell_type": "code",
   "execution_count": 66,
   "outputs": [
    {
     "data": {
      "text/plain": "  config.run.training.scoring.type  \\\n0                           transe   \n0                           transe   \n0                           rotate   \n0                           rotate   \n0                         distmult   \n\n  config.run.training.message_passing.messanger_function           mr  \\\n0                                             transe      1338.422485   \n0                                           distmult       859.743164   \n0                                             rotate       846.805603   \n0                                           distmult       781.163940   \n0                                           distmult       549.639709   \n\n        mrr  hits_at_N.hits_at_1  hits_at_N.hits_at_3  hits_at_N.hits_at_10  \n0  0.391882             0.372344             0.391141              0.424812  \n0  0.425052             0.390324             0.428898              0.493462  \n0  0.417686             0.388362             0.419418              0.479405  \n0  0.424751             0.390324             0.429879              0.492154  \n0  0.550923             0.497221             0.574698              0.656751  ",
      "text/html": "<div>\n<style scoped>\n    .dataframe tbody tr th:only-of-type {\n        vertical-align: middle;\n    }\n\n    .dataframe tbody tr th {\n        vertical-align: top;\n    }\n\n    .dataframe thead th {\n        text-align: right;\n    }\n</style>\n<table border=\"1\" class=\"dataframe\">\n  <thead>\n    <tr style=\"text-align: right;\">\n      <th></th>\n      <th>config.run.training.scoring.type</th>\n      <th>config.run.training.message_passing.messanger_function</th>\n      <th>mr</th>\n      <th>mrr</th>\n      <th>hits_at_N.hits_at_1</th>\n      <th>hits_at_N.hits_at_3</th>\n      <th>hits_at_N.hits_at_10</th>\n    </tr>\n  </thead>\n  <tbody>\n    <tr>\n      <th>0</th>\n      <td>transe</td>\n      <td>transe</td>\n      <td>1338.422485</td>\n      <td>0.391882</td>\n      <td>0.372344</td>\n      <td>0.391141</td>\n      <td>0.424812</td>\n    </tr>\n    <tr>\n      <th>0</th>\n      <td>transe</td>\n      <td>distmult</td>\n      <td>859.743164</td>\n      <td>0.425052</td>\n      <td>0.390324</td>\n      <td>0.428898</td>\n      <td>0.493462</td>\n    </tr>\n    <tr>\n      <th>0</th>\n      <td>rotate</td>\n      <td>rotate</td>\n      <td>846.805603</td>\n      <td>0.417686</td>\n      <td>0.388362</td>\n      <td>0.419418</td>\n      <td>0.479405</td>\n    </tr>\n    <tr>\n      <th>0</th>\n      <td>rotate</td>\n      <td>distmult</td>\n      <td>781.163940</td>\n      <td>0.424751</td>\n      <td>0.390324</td>\n      <td>0.429879</td>\n      <td>0.492154</td>\n    </tr>\n    <tr>\n      <th>0</th>\n      <td>distmult</td>\n      <td>distmult</td>\n      <td>549.639709</td>\n      <td>0.550923</td>\n      <td>0.497221</td>\n      <td>0.574698</td>\n      <td>0.656751</td>\n    </tr>\n  </tbody>\n</table>\n</div>"
     },
     "execution_count": 66,
     "metadata": {},
     "output_type": "execute_result"
    }
   ],
   "source": [
    "dfs = []\n",
    "for type in [\"transe\", \"rotate\", \"distmult\"]:\n",
    "    for type2 in [\"transe\", \"rotate\", \"distmult\"]:\n",
    "\n",
    "        dfs.append(filter_for_experiment(all_searches, wnrr_filter, **{\n",
    "           \"config.run.training.scoring.type\": type,\n",
    "           \"config.run.training.message_passing.query_dependent_edge_representations\": True,\n",
    "            \"config.run.training.message_passing.messanger_function\": type2,\n",
    "        }))\n",
    "\n",
    "pd.concat(dfs)[[\n",
    "    \"config.run.training.scoring.type\",\n",
    "     \"config.run.training.message_passing.messanger_function\",\n",
    "    \"mr\",\n",
    "    \"mrr\",\n",
    "    \"hits_at_N.hits_at_1\",\n",
    "    \"hits_at_N.hits_at_3\",\n",
    "    \"hits_at_N.hits_at_10\"\n",
    "]]"
   ],
   "metadata": {
    "collapsed": false
   }
  },
  {
   "cell_type": "markdown",
   "source": [],
   "metadata": {
    "collapsed": false
   }
  }
 ],
 "metadata": {
  "kernelspec": {
   "display_name": "Python 3",
   "language": "python",
   "name": "python3"
  },
  "language_info": {
   "codemirror_mode": {
    "name": "ipython",
    "version": 2
   },
   "file_extension": ".py",
   "mimetype": "text/x-python",
   "name": "python",
   "nbconvert_exporter": "python",
   "pygments_lexer": "ipython2",
   "version": "2.7.6"
  }
 },
 "nbformat": 4,
 "nbformat_minor": 0
}
